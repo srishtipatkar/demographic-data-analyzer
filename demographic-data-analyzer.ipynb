{
 "cells": [
  {
   "cell_type": "markdown",
   "metadata": {},
   "source": [
    "In this challenge you must analyze demographic data using Pandas. You are given a dataset of demographic data that was extracted from the 1994 Census database."
   ]
  },
  {
   "cell_type": "markdown",
   "metadata": {},
   "source": [
    "You must use Pandas to answer the following questions:\n",
    "* How many people of each race are represented in this dataset? This should be a Pandas series with race names as the index labels. (`race` column)\n",
    "* What is the average age of men?\n",
    "* What is the percentage of people who have a Bachelor's degree?\n",
    "* What percentage of people with advanced education (`Bachelors`, `Masters`, or `Doctorate`) make more than 50K?\n",
    "* What percentage of people without advanced education make more than 50K?\n",
    "* What is the minimum number of hours a person works per week?\n",
    "* What percentage of the people who work the minimum number of hours per week have a salary of more than 50K?\n",
    "* What country has the highest percentage of people that earn >50K and what is that percentage?\n",
    "* Identify the most popular occupation for those who earn >50K in India. "
   ]
  },
  {
   "cell_type": "code",
   "execution_count": 5,
   "metadata": {},
   "outputs": [],
   "source": [
    "import pandas as pd\n",
    "\n",
    "\n",
    "def calculate_demographic_data(print_data=True):\n",
    "    # Read data from file\n",
    "    df = pd.read_csv('adult.data.csv')\n",
    "\n",
    "    # How many of each race are represented in this dataset? This should be a Pandas series with race names as the index labels.\n",
    "    race_count = df['race'].value_counts()\n",
    "\n",
    "    # What is the average age of men?\n",
    "    average_age_men1 = df[df['sex']=='Male']['age'].mean()\n",
    "    average_age_men=round(average_age_men1,1)\n",
    "    # What is the percentage of people who have a Bachelor's degree?\n",
    "    percentage_bachelors1 = (df.loc[df['education']=='Bachelors','education'].count())*100/(df['education'].count())\n",
    "    percentage_bachelors=round(percentage_bachelors1,1)\n",
    "\n",
    "    # What percentage of people with advanced education (`Bachelors`, `Masters`, or `Doctorate`) make more than 50K?\n",
    "    # What percentage of people without advanced education make more than 50K?\n",
    "\n",
    "    # with and without `Bachelors`, `Masters`, or `Doctorate`\n",
    "    higher_education = df[df['education'].isin(['Bachelors','Masters','Doctorate'])]\n",
    "    lower_education = df[~(df['education'].isin(['Bachelors','Masters','Doctorate']))]\n",
    "\n",
    "    # percentage with salary >50K\n",
    "    #higher_education_rich = higher_education.loc[higher_education['salary']=='>50K','education'].count()*100/(df['education'].count())\n",
    "    higher_education_rich=round((higher_education.loc[higher_education['salary']=='>50K','age'].count()*100/higher_education.shape[0]),1)\n",
    "\n",
    "    lower_education_rich = round((lower_education.loc[lower_education['salary']=='>50K','age'].count()*100/lower_education.shape[0]),1)\n",
    "\n",
    "    # What is the minimum number of hours a person works per week (hours-per-week feature)?\n",
    "    min_work_hours = df['hours-per-week'].min()\n",
    "\n",
    "    # What percentage of the people who work the minimum number of hours per week have a salary of >50K?\n",
    "    num_min_workers = len(df[df['hours-per-week']==min_work_hours])\n",
    "\n",
    "    rich_percentage = round(len(df[(df['hours-per-week'] == min_work_hours) & (df['salary'] == '>50K')]) / num_min_workers * 100, 1)\n",
    "\n",
    "    # What country has the highest percentage of people that earn >50K?\n",
    "    aggregation = {\n",
    "        '>50K':  ('salary', lambda x: (x == \">50K\").sum()),\n",
    "        '<=50K': ('salary', lambda x: (x == \"<=50K\").sum()),\n",
    "                  }\n",
    "\n",
    "# Creating a new table that has native-country as the index and columns that have the counts of >50K and <=50K\n",
    "    df2 = df.groupby('native-country').agg(**aggregation)\n",
    "\n",
    "# Function that gets the total per country\n",
    "    def getTotal(row):\n",
    "        return row['>50K'] + row['<=50K']\n",
    "\n",
    "# Add a column that calculate the % of those that earn >50K\n",
    "    df2['>50K%'] = df2.apply(lambda row: (row['>50K'] / getTotal(row) *100).round(1), axis=1)\n",
    "\n",
    "# Sorting the values by >50K% - largest number at the top\n",
    "    df2 = df2.sort_values(\">50K%\",ascending=False)\n",
    "\n",
    "# Get the name of the country and put into Title Case\n",
    "    highest_earning_country = df2.iloc[0].name.title()\n",
    "\n",
    "# Get the percentage\n",
    "    highest_earning_country_percentage = df2.iloc[0][\">50K%\"]\n",
    "\n",
    "  \n",
    "\n",
    "\n",
    "    # Identify the most popular occupation for those who earn >50K in India.\n",
    "   \n",
    "    top_IN_occupation = df.loc[((df['native-country']=='India') & (df['salary']=='>50K')),'occupation'].value_counts().idxmax()\n",
    "\n",
    "\n",
    "    if print_data:\n",
    "        print(\"Number of each race:\\n\", race_count) \n",
    "        print(\"Average age of men:\", average_age_men)\n",
    "        print(f\"Percentage with Bachelors degrees: {percentage_bachelors}%\")\n",
    "        print(f\"Percentage with higher education that earn >50K: {higher_education_rich}%\")\n",
    "        print(f\"Percentage without higher education that earn >50K: {lower_education_rich}%\")\n",
    "        print(f\"Min work time: {min_work_hours} hours/week\")\n",
    "        print(f\"Percentage of rich among those who work fewest hours: {rich_percentage}%\")\n",
    "        print(\"Country with highest percentage of rich:\", highest_earning_country)\n",
    "        print(f\"Highest percentage of rich people in country: {highest_earning_country_percentage}%\")\n",
    "        print(\"Top occupations in India:\", top_IN_occupation)\n"
   ]
  },
  {
   "cell_type": "code",
   "execution_count": 6,
   "metadata": {},
   "outputs": [
    {
     "name": "stdout",
     "output_type": "stream",
     "text": [
      "Number of each race:\n",
      " White                 27816\n",
      "Black                  3124\n",
      "Asian-Pac-Islander     1039\n",
      "Amer-Indian-Eskimo      311\n",
      "Other                   271\n",
      "Name: race, dtype: int64\n",
      "Average age of men: 39.4\n",
      "Percentage with Bachelors degrees: 16.4%\n",
      "Percentage with higher education that earn >50K: 46.5%\n",
      "Percentage without higher education that earn >50K: 17.4%\n",
      "Min work time: 1 hours/week\n",
      "Percentage of rich among those who work fewest hours: 10.0%\n",
      "Country with highest percentage of rich: Iran\n",
      "Highest percentage of rich people in country: 41.9%\n",
      "Top occupations in India: Prof-specialty\n"
     ]
    }
   ],
   "source": [
    "calculate_demographic_data()"
   ]
  },
  {
   "cell_type": "code",
   "execution_count": null,
   "metadata": {},
   "outputs": [],
   "source": []
  }
 ],
 "metadata": {
  "kernelspec": {
   "display_name": "Python 3",
   "language": "python",
   "name": "python3"
  },
  "language_info": {
   "codemirror_mode": {
    "name": "ipython",
    "version": 3
   },
   "file_extension": ".py",
   "mimetype": "text/x-python",
   "name": "python",
   "nbconvert_exporter": "python",
   "pygments_lexer": "ipython3",
   "version": "3.6.9"
  }
 },
 "nbformat": 4,
 "nbformat_minor": 2
}
